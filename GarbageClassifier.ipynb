{
  "nbformat": 4,
  "nbformat_minor": 0,
  "metadata": {
    "colab": {
      "name": "GarbageClassifier",
      "provenance": [],
      "collapsed_sections": [],
      "authorship_tag": "ABX9TyMr/w8t+BVPBIYwumOjH9CV",
      "include_colab_link": true
    },
    "kernelspec": {
      "name": "python3",
      "display_name": "Python 3"
    },
    "language_info": {
      "name": "python"
    }
  },
  "cells": [
    {
      "cell_type": "markdown",
      "metadata": {
        "id": "view-in-github",
        "colab_type": "text"
      },
      "source": [
        "<a href=\"https://colab.research.google.com/github/rohanjadhav41193/MachineLearningPart2/blob/ml2projects/GarbageClassifier.ipynb\" target=\"_parent\"><img src=\"https://colab.research.google.com/assets/colab-badge.svg\" alt=\"Open In Colab\"/></a>"
      ]
    },
    {
      "cell_type": "code",
      "metadata": {
        "id": "fVolFcW2bSwl"
      },
      "source": [
        "import numpy as np\n",
        "import cv2\n",
        "from keras.callbacks import ModelCheckpoint\n",
        "from keras.layers import Conv2D, Flatten, MaxPooling2D,Dense,Dropout\n",
        "from keras.models  import Sequential\n",
        "from keras.preprocessing.image import ImageDataGenerator, img_to_array, load_img, array_to_img\n",
        "import random,os,glob\n",
        "import matplotlib.pyplot as plt"
      ],
      "execution_count": 1,
      "outputs": []
    }
  ]
}