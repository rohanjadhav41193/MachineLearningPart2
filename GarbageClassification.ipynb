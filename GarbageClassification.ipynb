{
  "nbformat": 4,
  "nbformat_minor": 0,
  "metadata": {
    "colab": {
      "name": "GarbageClassification",
      "provenance": [],
      "authorship_tag": "ABX9TyNX6CyD550bn8XPpSL5DlRD",
      "include_colab_link": true
    },
    "kernelspec": {
      "name": "python3",
      "display_name": "Python 3"
    },
    "language_info": {
      "name": "python"
    }
  },
  "cells": [
    {
      "cell_type": "markdown",
      "metadata": {
        "id": "view-in-github",
        "colab_type": "text"
      },
      "source": [
        "<a href=\"https://colab.research.google.com/github/rohanjadhav41193/MachineLearningPart2/blob/ml2projects/GarbageClassification.ipynb\" target=\"_parent\"><img src=\"https://colab.research.google.com/assets/colab-badge.svg\" alt=\"Open In Colab\"/></a>"
      ]
    },
    {
      "cell_type": "code",
      "metadata": {
        "id": "AWZtqVt_C9qS"
      },
      "source": [
        "import numpy as np\n",
        "import cv2\n",
        "from keras.callbacks import ModelCheckpoint\n",
        "from keras.layers import Conv2D, Flatten, MaxPooling2D,Dense,Dropout\n",
        "from keras.models  import Sequential\n",
        "from keras.preprocessing.image import ImageDataGenerator, img_to_array, load_img, array_to_img\n",
        "import random,os,glob\n",
        "import matplotlib.pyplot as plt\n",
        "from google.colab import drive\n",
        "import pathlib\n",
        "import tensorflow as tf\n",
        "import matplotlib.image as mpimg\n",
        "from tensorflow.keras.applications.xception import preprocess_input\n",
        "import tensorflow.keras.layers as L\n",
        "from tensorflow.keras.models import Model\n",
        "from tensorflow.keras.callbacks import EarlyStopping\n",
        "from tensorflow.keras.applications import Xception\n",
        "from sklearn.metrics import confusion_matrix, f1_score\n",
        "import matplotlib.pyplot as plt\n",
        "import seaborn as sns"
      ],
      "execution_count": 39,
      "outputs": []
    },
    {
      "cell_type": "code",
      "metadata": {
        "colab": {
          "base_uri": "https://localhost:8080/"
        },
        "id": "kaQlAOJChdj2",
        "outputId": "16c0ea14-b800-4aa1-c7bf-680a517955c1"
      },
      "source": [
        "drive.mount('/content/drive',force_remount=True)\n",
        "data_dir = 'drive/My Drive/ColabNotebooks/GarbageDataset/Garbageclassification/'\n",
        "os.listdir(data_dir)  # shows the subfolders I had shared with me"
      ],
      "execution_count": 10,
      "outputs": [
        {
          "output_type": "stream",
          "text": [
            "Mounted at /content/drive\n"
          ],
          "name": "stdout"
        },
        {
          "output_type": "execute_result",
          "data": {
            "text/plain": [
              "['trash76.jpg',\n",
              " 'trash',\n",
              " 'plastic',\n",
              " 'metal',\n",
              " 'glass',\n",
              " 'paper',\n",
              " 'cardboard',\n",
              " 'zero-indexed-files.txt',\n",
              " 'one-indexed-files-notrash_train.txt',\n",
              " 'one-indexed-files.txt',\n",
              " 'one-indexed-files-notrash_val.txt',\n",
              " 'one-indexed-files-notrash_test.txt']"
            ]
          },
          "metadata": {
            "tags": []
          },
          "execution_count": 10
        }
      ]
    },
    {
      "cell_type": "code",
      "metadata": {
        "id": "B2zNAWGEjbpl"
      },
      "source": [
        "# some variables to easily navigate\n",
        "INPUT = '/kaggle/input/garbage-classification/'\n",
        "GLASS = data_dir + '/glass/'\n",
        "PAPER = data_dir + '/paper/'\n",
        "CARDBOARD = data_dir + '/cardboard/'\n",
        "PLASTIC = data_dir + '/plastic/'\n",
        "METAL = data_dir + '/metal/'\n",
        "TRASH = data_dir + '/trash/'\n",
        "MATERIALS = [GLASS,\n",
        "             PAPER,\n",
        "             CARDBOARD,\n",
        "             PLASTIC,\n",
        "             METAL,\n",
        "             TRASH]"
      ],
      "execution_count": 11,
      "outputs": []
    },
    {
      "cell_type": "code",
      "metadata": {
        "id": "ejJeWCb4j73Z"
      },
      "source": [
        "def load_csv(subset):\n",
        "    \n",
        "    if subset == 'train':\n",
        "        fname = data_dir + 'one-indexed-files-notrash_train.txt'\n",
        "    elif subset == 'validation':\n",
        "        fname = data_dir + 'one-indexed-files-notrash_val.txt'\n",
        "    elif subset == 'test':\n",
        "        fname = data_dir + 'one-indexed-files-notrash_test.txt'\n",
        "    else:\n",
        "        raise ValueError('subset must be \"train\", \"validation\" or \"test\"')\n",
        "    \n",
        "    df = pd.read_csv(fname, sep=' ', names=['file', 'label'])\n",
        "    \n",
        "    # change the labels to be from 0 to 5\n",
        "    df['label'] -= 1\n",
        "    \n",
        "    # create path column\n",
        "    df['folder'] = [MATERIALS[i] for i in df['label']]\n",
        "    df['path'] = df['folder'] + df['file']\n",
        "    \n",
        "    # change type of label for datagenerator\n",
        "    df['label_str'] = df['label'].astype(str)\n",
        "    \n",
        "    return df"
      ],
      "execution_count": 12,
      "outputs": []
    },
    {
      "cell_type": "code",
      "metadata": {
        "colab": {
          "base_uri": "https://localhost:8080/",
          "height": 203
        },
        "id": "AZ44A7hNkSaK",
        "outputId": "255444f0-b3c2-4c4d-cf31-424f1b1cfaac"
      },
      "source": [
        "# Read all the csv files\n",
        "df_train = load_csv('train')\n",
        "df_valid = load_csv('validation')\n",
        "df_test = load_csv('test')\n",
        "\n",
        "df_train.head()"
      ],
      "execution_count": 13,
      "outputs": [
        {
          "output_type": "execute_result",
          "data": {
            "text/html": [
              "<div>\n",
              "<style scoped>\n",
              "    .dataframe tbody tr th:only-of-type {\n",
              "        vertical-align: middle;\n",
              "    }\n",
              "\n",
              "    .dataframe tbody tr th {\n",
              "        vertical-align: top;\n",
              "    }\n",
              "\n",
              "    .dataframe thead th {\n",
              "        text-align: right;\n",
              "    }\n",
              "</style>\n",
              "<table border=\"1\" class=\"dataframe\">\n",
              "  <thead>\n",
              "    <tr style=\"text-align: right;\">\n",
              "      <th></th>\n",
              "      <th>file</th>\n",
              "      <th>label</th>\n",
              "      <th>folder</th>\n",
              "      <th>path</th>\n",
              "      <th>label_str</th>\n",
              "    </tr>\n",
              "  </thead>\n",
              "  <tbody>\n",
              "    <tr>\n",
              "      <th>0</th>\n",
              "      <td>cardboard202.jpg</td>\n",
              "      <td>2</td>\n",
              "      <td>drive/My Drive/ColabNotebooks/GarbageDataset/G...</td>\n",
              "      <td>drive/My Drive/ColabNotebooks/GarbageDataset/G...</td>\n",
              "      <td>2</td>\n",
              "    </tr>\n",
              "    <tr>\n",
              "      <th>1</th>\n",
              "      <td>paper472.jpg</td>\n",
              "      <td>1</td>\n",
              "      <td>drive/My Drive/ColabNotebooks/GarbageDataset/G...</td>\n",
              "      <td>drive/My Drive/ColabNotebooks/GarbageDataset/G...</td>\n",
              "      <td>1</td>\n",
              "    </tr>\n",
              "    <tr>\n",
              "      <th>2</th>\n",
              "      <td>paper522.jpg</td>\n",
              "      <td>1</td>\n",
              "      <td>drive/My Drive/ColabNotebooks/GarbageDataset/G...</td>\n",
              "      <td>drive/My Drive/ColabNotebooks/GarbageDataset/G...</td>\n",
              "      <td>1</td>\n",
              "    </tr>\n",
              "    <tr>\n",
              "      <th>3</th>\n",
              "      <td>glass189.jpg</td>\n",
              "      <td>0</td>\n",
              "      <td>drive/My Drive/ColabNotebooks/GarbageDataset/G...</td>\n",
              "      <td>drive/My Drive/ColabNotebooks/GarbageDataset/G...</td>\n",
              "      <td>0</td>\n",
              "    </tr>\n",
              "    <tr>\n",
              "      <th>4</th>\n",
              "      <td>glass325.jpg</td>\n",
              "      <td>0</td>\n",
              "      <td>drive/My Drive/ColabNotebooks/GarbageDataset/G...</td>\n",
              "      <td>drive/My Drive/ColabNotebooks/GarbageDataset/G...</td>\n",
              "      <td>0</td>\n",
              "    </tr>\n",
              "  </tbody>\n",
              "</table>\n",
              "</div>"
            ],
            "text/plain": [
              "               file  ...  label_str\n",
              "0  cardboard202.jpg  ...          2\n",
              "1      paper472.jpg  ...          1\n",
              "2      paper522.jpg  ...          1\n",
              "3      glass189.jpg  ...          0\n",
              "4      glass325.jpg  ...          0\n",
              "\n",
              "[5 rows x 5 columns]"
            ]
          },
          "metadata": {
            "tags": []
          },
          "execution_count": 13
        }
      ]
    },
    {
      "cell_type": "code",
      "metadata": {
        "id": "nhE0TtsOk1YB"
      },
      "source": [
        "IMG_SIZE = 299\n",
        "classes = ['glass', 'paper', 'cardboard', 'plastic', 'metal', 'trash']"
      ],
      "execution_count": 14,
      "outputs": []
    },
    {
      "cell_type": "code",
      "metadata": {
        "colab": {
          "base_uri": "https://localhost:8080/"
        },
        "id": "Ft_TXkEck9DK",
        "outputId": "24249a3a-1df1-4b83-d9cf-e34b60576384"
      },
      "source": [
        "# for the train set\n",
        "datagen_aug = ImageDataGenerator(\n",
        "    horizontal_flip=True,\n",
        "    vertical_flip=True,\n",
        "    shear_range=0.1,\n",
        "    zoom_range=0.2,\n",
        "    preprocessing_function=preprocess_input,\n",
        "    rotation_range=90)\n",
        "\n",
        "train_datagen = datagen_aug.flow_from_dataframe(\n",
        "    df_train,\n",
        "    x_col='path',\n",
        "    y_col='label_str',\n",
        "    class_mode='sparse',\n",
        "    target_size=(IMG_SIZE, IMG_SIZE),\n",
        "    batch_size=32,\n",
        "    shuffle=True)\n",
        "\n",
        "# for the validation and test sets\n",
        "datagen = ImageDataGenerator(\n",
        "    preprocessing_function=preprocess_input)\n",
        "\n",
        "valid_datagen = datagen.flow_from_dataframe(\n",
        "    df_valid,\n",
        "    x_col='path',\n",
        "    y_col='label_str',\n",
        "    class_mode='sparse',\n",
        "    target_size=(IMG_SIZE, IMG_SIZE),\n",
        "    batch_size=32,\n",
        "    shuffle=False)\n",
        "\n",
        "test_datagen = datagen.flow_from_dataframe(\n",
        "    df_test,\n",
        "    x_col='path',\n",
        "    y_col='label_str',\n",
        "    class_mode='sparse',\n",
        "    target_size=(IMG_SIZE, IMG_SIZE),\n",
        "    batch_size=32,\n",
        "    shuffle=False)"
      ],
      "execution_count": 17,
      "outputs": [
        {
          "output_type": "stream",
          "text": [
            "/usr/local/lib/python3.7/dist-packages/keras_preprocessing/image/dataframe_iterator.py:282: UserWarning: Found 1 invalid image filename(s) in x_col=\"path\". These filename(s) will be ignored.\n",
            "  .format(n_invalid, x_col)\n"
          ],
          "name": "stderr"
        },
        {
          "output_type": "stream",
          "text": [
            "Found 1767 validated image filenames belonging to 6 classes.\n",
            "Found 328 validated image filenames belonging to 6 classes.\n",
            "Found 431 validated image filenames belonging to 6 classes.\n"
          ],
          "name": "stdout"
        }
      ]
    },
    {
      "cell_type": "code",
      "metadata": {
        "colab": {
          "base_uri": "https://localhost:8080/",
          "height": 296
        },
        "id": "T3n0JmUTlW-I",
        "outputId": "674b5c6c-a868-42a1-8260-6f599b1d3160"
      },
      "source": [
        "plt.hist(df_train['label'], bins=np.arange(7)-0.5, rwidth=0.8)\n",
        "plt.xlabel('class')\n",
        "plt.ylabel('population')"
      ],
      "execution_count": 23,
      "outputs": [
        {
          "output_type": "execute_result",
          "data": {
            "text/plain": [
              "Text(0, 0.5, 'population')"
            ]
          },
          "metadata": {
            "tags": []
          },
          "execution_count": 23
        },
        {
          "output_type": "display_data",
          "data": {
            "image/png": "[encoded data removed]",
            "text/plain": [
              "<Figure size 432x288 with 1 Axes>"
            ]
          },
          "metadata": {
            "tags": [],
            "needs_background": "light"
          }
        }
      ]
    },
    {
      "cell_type": "code",
      "metadata": {
        "colab": {
          "base_uri": "https://localhost:8080/",
          "height": 296
        },
        "id": "LnKfoxwhlcHr",
        "outputId": "115c49c7-fa17-48f7-dd22-921556b1f268"
      },
      "source": [
        "hist, _ = np.histogram(df_train['label'], bins=np.arange(7)-0.5)\n",
        "class_weight = hist.min()/hist\n",
        "class_weight = {i:class_weight[i] for i in range(6)}\n",
        "\n",
        "plt.bar(np.arange(6), [class_weight[i] for i in range(6)])\n",
        "plt.xlabel('Class')\n",
        "plt.ylabel('Class weight')"
      ],
      "execution_count": 19,
      "outputs": [
        {
          "output_type": "execute_result",
          "data": {
            "text/plain": [
              "Text(0, 0.5, 'Class weight')"
            ]
          },
          "metadata": {
            "tags": []
          },
          "execution_count": 19
        },
        {
          "output_type": "display_data",
          "data": {
            "image/png": "[encoded data removed]",
            "text/plain": [
              "<Figure size 432x288 with 1 Axes>"
            ]
          },
          "metadata": {
            "tags": [],
            "needs_background": "light"
          }
        }
      ]
    },
    {
      "cell_type": "code",
      "metadata": {
        "id": "6UPYXj8qlqCA"
      },
      "source": [
        "def cnn_model():\n",
        "    \n",
        "    X_input = L.Input(shape=(IMG_SIZE, IMG_SIZE, 3))\n",
        "    \n",
        "    # load pretrained model and freeze the weights\n",
        "    pretrained = Xception(include_top=False, weights='imagenet')\n",
        "    pretrained.trainable = False\n",
        "    X = pretrained(X_input, training=False)\n",
        "    \n",
        "    # last layers\n",
        "    X = L.GlobalAveragePooling2D()(X)\n",
        "    X = L.Dense(1024, activation='relu')(X)\n",
        "    X = L.Dense(512, activation='relu')(X)\n",
        "    X = L.Dense(6, activation='softmax')(X)\n",
        "    \n",
        "    # create model\n",
        "    model = Model(inputs=X_input, outputs=X)\n",
        "    model.compile(optimizer='adam',\n",
        "                  loss='sparse_categorical_crossentropy',\n",
        "                  metrics=['acc'])\n",
        "    \n",
        "    return model"
      ],
      "execution_count": 24,
      "outputs": []
    },
    {
      "cell_type": "code",
      "metadata": {
        "colab": {
          "base_uri": "https://localhost:8080/"
        },
        "id": "HXGmA4U3lun-",
        "outputId": "8b0f2960-6609-454b-88a0-262d21d119c5"
      },
      "source": [
        "model = cnn_model()\n",
        "model.summary()\n"
      ],
      "execution_count": 29,
      "outputs": [
        {
          "output_type": "stream",
          "text": [
            "Downloading data from https://storage.googleapis.com/tensorflow/keras-applications/xception/xception_weights_tf_dim_ordering_tf_kernels_notop.h5\n",
            "83689472/83683744 [==============================] - 1s 0us/step\n",
            "Model: \"model\"\n",
            "_________________________________________________________________\n",
            "Layer (type)                 Output Shape              Param #   \n",
            "=================================================================\n",
            "input_2 (InputLayer)         [(None, 299, 299, 3)]     0         \n",
            "_________________________________________________________________\n",
            "xception (Functional)        (None, None, None, 2048)  20861480  \n",
            "_________________________________________________________________\n",
            "global_average_pooling2d (Gl (None, 2048)              0         \n",
            "_________________________________________________________________\n",
            "dense (Dense)                (None, 1024)              2098176   \n",
            "_________________________________________________________________\n",
            "dense_1 (Dense)              (None, 512)               524800    \n",
            "_________________________________________________________________\n",
            "dense_2 (Dense)              (None, 6)                 3078      \n",
            "=================================================================\n",
            "Total params: 23,487,534\n",
            "Trainable params: 2,626,054\n",
            "Non-trainable params: 20,861,480\n",
            "_________________________________________________________________\n"
          ],
          "name": "stdout"
        }
      ]
    },
    {
      "cell_type": "code",
      "metadata": {
        "colab": {
          "base_uri": "https://localhost:8080/"
        },
        "id": "KHgXkGUxmEje",
        "outputId": "c491ddcf-2b54-4eee-cd8d-07796d525b29"
      },
      "source": [
        "callbacks = [EarlyStopping(\n",
        "                monitor='val_loss',\n",
        "                patience=10,\n",
        "                restore_best_weights=True)]\n",
        "\n",
        "history = model.fit(\n",
        "    train_datagen,\n",
        "    epochs=100,\n",
        "    class_weight=class_weight,\n",
        "    callbacks=callbacks,\n",
        "    validation_data=valid_datagen)"
      ],
      "execution_count": 30,
      "outputs": [
        {
          "output_type": "stream",
          "text": [
            "WARNING:tensorflow:From /usr/local/lib/python3.7/dist-packages/tensorflow/python/ops/array_ops.py:5049: calling gather (from tensorflow.python.ops.array_ops) with validate_indices is deprecated and will be removed in a future version.\n",
            "Instructions for updating:\n",
            "The `validate_indices` argument has no effect. Indices are always validated on CPU and never validated on GPU.\n",
            "Epoch 1/100\n",
            "56/56 [==============================] - 1368s 24s/step - loss: 0.2515 - acc: 0.7165 - val_loss: 0.4317 - val_acc: 0.8445\n",
            "Epoch 2/100\n",
            "56/56 [==============================] - 711s 13s/step - loss: 0.1480 - acc: 0.8229 - val_loss: 0.4131 - val_acc: 0.8628\n",
            "Epoch 3/100\n",
            "56/56 [==============================] - 722s 13s/step - loss: 0.1234 - acc: 0.8596 - val_loss: 0.3316 - val_acc: 0.8720\n",
            "Epoch 4/100\n",
            "56/56 [==============================] - 730s 13s/step - loss: 0.1110 - acc: 0.8710 - val_loss: 0.3721 - val_acc: 0.8689\n",
            "Epoch 5/100\n",
            "56/56 [==============================] - 720s 13s/step - loss: 0.0977 - acc: 0.8857 - val_loss: 0.3223 - val_acc: 0.8902\n",
            "Epoch 6/100\n",
            "56/56 [==============================] - 728s 13s/step - loss: 0.0882 - acc: 0.8959 - val_loss: 0.3268 - val_acc: 0.8780\n",
            "Epoch 7/100\n",
            "56/56 [==============================] - 724s 13s/step - loss: 0.0759 - acc: 0.9078 - val_loss: 0.3307 - val_acc: 0.8933\n",
            "Epoch 8/100\n",
            "56/56 [==============================] - 718s 13s/step - loss: 0.0738 - acc: 0.9213 - val_loss: 0.2845 - val_acc: 0.9085\n",
            "Epoch 9/100\n",
            "56/56 [==============================] - 725s 13s/step - loss: 0.0740 - acc: 0.9151 - val_loss: 0.2898 - val_acc: 0.8933\n",
            "Epoch 10/100\n",
            "56/56 [==============================] - 726s 13s/step - loss: 0.0598 - acc: 0.9270 - val_loss: 0.3500 - val_acc: 0.8994\n",
            "Epoch 11/100\n",
            "56/56 [==============================] - 720s 13s/step - loss: 0.0587 - acc: 0.9360 - val_loss: 0.3121 - val_acc: 0.8963\n",
            "Epoch 12/100\n",
            "56/56 [==============================] - 729s 13s/step - loss: 0.0452 - acc: 0.9462 - val_loss: 0.4024 - val_acc: 0.8720\n",
            "Epoch 13/100\n",
            "56/56 [==============================] - 725s 13s/step - loss: 0.0407 - acc: 0.9462 - val_loss: 0.3663 - val_acc: 0.8872\n",
            "Epoch 14/100\n",
            "56/56 [==============================] - 734s 13s/step - loss: 0.0447 - acc: 0.9474 - val_loss: 0.2773 - val_acc: 0.9146\n",
            "Epoch 15/100\n",
            "56/56 [==============================] - 741s 13s/step - loss: 0.0406 - acc: 0.9519 - val_loss: 0.2653 - val_acc: 0.9207\n",
            "Epoch 16/100\n",
            "56/56 [==============================] - 735s 13s/step - loss: 0.0347 - acc: 0.9553 - val_loss: 0.2855 - val_acc: 0.8994\n",
            "Epoch 17/100\n",
            "56/56 [==============================] - 738s 13s/step - loss: 0.0360 - acc: 0.9525 - val_loss: 0.3118 - val_acc: 0.8994\n",
            "Epoch 18/100\n",
            "56/56 [==============================] - 744s 13s/step - loss: 0.0356 - acc: 0.9581 - val_loss: 0.3383 - val_acc: 0.8963\n",
            "Epoch 19/100\n",
            "56/56 [==============================] - 728s 13s/step - loss: 0.0462 - acc: 0.9462 - val_loss: 0.3587 - val_acc: 0.8902\n",
            "Epoch 20/100\n",
            "56/56 [==============================] - 727s 13s/step - loss: 0.0434 - acc: 0.9581 - val_loss: 0.2870 - val_acc: 0.9177\n",
            "Epoch 21/100\n",
            "56/56 [==============================] - 730s 13s/step - loss: 0.0224 - acc: 0.9723 - val_loss: 0.3430 - val_acc: 0.8933\n",
            "Epoch 22/100\n",
            "56/56 [==============================] - 720s 13s/step - loss: 0.0336 - acc: 0.9615 - val_loss: 0.2848 - val_acc: 0.9207\n",
            "Epoch 23/100\n",
            "56/56 [==============================] - 719s 13s/step - loss: 0.0235 - acc: 0.9711 - val_loss: 0.2878 - val_acc: 0.9085\n",
            "Epoch 24/100\n",
            "56/56 [==============================] - 716s 13s/step - loss: 0.0297 - acc: 0.9660 - val_loss: 0.4214 - val_acc: 0.8902\n",
            "Epoch 25/100\n",
            "56/56 [==============================] - 713s 13s/step - loss: 0.0341 - acc: 0.9598 - val_loss: 0.2364 - val_acc: 0.9268\n",
            "Epoch 26/100\n",
            "56/56 [==============================] - 730s 13s/step - loss: 0.0308 - acc: 0.9615 - val_loss: 0.4793 - val_acc: 0.8780\n",
            "Epoch 27/100\n",
            "56/56 [==============================] - 733s 13s/step - loss: 0.0282 - acc: 0.9666 - val_loss: 0.2322 - val_acc: 0.9116\n",
            "Epoch 28/100\n",
            "56/56 [==============================] - 726s 13s/step - loss: 0.0205 - acc: 0.9723 - val_loss: 0.3681 - val_acc: 0.8994\n",
            "Epoch 29/100\n",
            "56/56 [==============================] - 722s 13s/step - loss: 0.0187 - acc: 0.9751 - val_loss: 0.3522 - val_acc: 0.9146\n",
            "Epoch 30/100\n",
            "56/56 [==============================] - 738s 13s/step - loss: 0.0201 - acc: 0.9791 - val_loss: 0.4327 - val_acc: 0.8841\n",
            "Epoch 31/100\n",
            "56/56 [==============================] - 733s 13s/step - loss: 0.0417 - acc: 0.9610 - val_loss: 0.5274 - val_acc: 0.8354\n",
            "Epoch 32/100\n",
            "56/56 [==============================] - 725s 13s/step - loss: 0.0276 - acc: 0.9672 - val_loss: 0.3147 - val_acc: 0.9116\n",
            "Epoch 33/100\n",
            "56/56 [==============================] - 721s 13s/step - loss: 0.0167 - acc: 0.9785 - val_loss: 0.3163 - val_acc: 0.9024\n",
            "Epoch 34/100\n",
            "56/56 [==============================] - 714s 13s/step - loss: 0.0172 - acc: 0.9779 - val_loss: 0.4037 - val_acc: 0.8841\n",
            "Epoch 35/100\n",
            "56/56 [==============================] - 718s 13s/step - loss: 0.0278 - acc: 0.9700 - val_loss: 0.3252 - val_acc: 0.9207\n",
            "Epoch 36/100\n",
            "56/56 [==============================] - 723s 13s/step - loss: 0.0153 - acc: 0.9825 - val_loss: 0.3656 - val_acc: 0.8872\n",
            "Epoch 37/100\n",
            "56/56 [==============================] - 706s 13s/step - loss: 0.0213 - acc: 0.9745 - val_loss: 0.2545 - val_acc: 0.9268\n"
          ],
          "name": "stdout"
        }
      ]
    },
    {
      "cell_type": "code",
      "metadata": {
        "colab": {
          "base_uri": "https://localhost:8080/",
          "height": 282
        },
        "id": "5DUrtDwCSFy4",
        "outputId": "dcf80070-1c3b-4352-b446-546d5d8599ec"
      },
      "source": [
        "plt.plot(history.history['loss'], label='loss')\n",
        "plt.plot(history.history['val_loss'], label='val_loss')\n",
        "plt.legend()"
      ],
      "execution_count": 31,
      "outputs": [
        {
          "output_type": "execute_result",
          "data": {
            "text/plain": [
              "<matplotlib.legend.Legend at 0x7fd05ec93510>"
            ]
          },
          "metadata": {
            "tags": []
          },
          "execution_count": 31
        },
        {
          "output_type": "display_data",
          "data": {
            "image/png": "[encoded data removed]",
            "text/plain": [
              "<Figure size 432x288 with 1 Axes>"
            ]
          },
          "metadata": {
            "tags": [],
            "needs_background": "light"
          }
        }
      ]
    },
    {
      "cell_type": "code",
      "metadata": {
        "colab": {
          "base_uri": "https://localhost:8080/",
          "height": 282
        },
        "id": "mGdJHBvbSIHs",
        "outputId": "e13d459c-3643-45e0-fea7-82721a6be095"
      },
      "source": [
        "plt.plot(history.history['acc'], label='acc')\n",
        "plt.plot(history.history['val_acc'], label='val_acc')\n",
        "plt.legend()"
      ],
      "execution_count": 32,
      "outputs": [
        {
          "output_type": "execute_result",
          "data": {
            "text/plain": [
              "<matplotlib.legend.Legend at 0x7fd05fb84810>"
            ]
          },
          "metadata": {
            "tags": []
          },
          "execution_count": 32
        },
        {
          "output_type": "display_data",
          "data": {
            "image/png": "[encoded data removed]",
            "text/plain": [
              "<Figure size 432x288 with 1 Axes>"
            ]
          },
          "metadata": {
            "tags": [],
            "needs_background": "light"
          }
        }
      ]
    },
    {
      "cell_type": "code",
      "metadata": {
        "id": "PA3rqRdaSObz"
      },
      "source": [
        "def plot_cm(y_true, y_pred, title, classes):\n",
        "    '''\n",
        "    Fancy confusion matrix plot.\n",
        "    '''\n",
        "    y_pred = y_pred.astype(int)\n",
        "    \n",
        "    cm = confusion_matrix(y_true, y_pred, labels=np.unique(y_true))\n",
        "    cm_sum = np.sum(cm, axis=1, keepdims=True)\n",
        "    cm_perc = cm / cm_sum.astype(float) * 100\n",
        "    \n",
        "    annot = np.empty_like(cm).astype(str)\n",
        "    nrows, ncols = cm.shape\n",
        "    \n",
        "    for i in range(nrows):\n",
        "        for j in range(ncols):\n",
        "            c = cm[i, j]\n",
        "            p = cm_perc[i, j]\n",
        "            if i == j:\n",
        "                s = cm_sum[i]\n",
        "                annot[i, j] = '%.1f%%\\n%d/%d' % (p, c, s)\n",
        "            elif c == 0:\n",
        "                annot[i, j] = ''\n",
        "            else:\n",
        "                annot[i, j] = '%.1f%%\\n%d' % (p, c)\n",
        "    \n",
        "    cm = pd.DataFrame(cm, index=classes, columns=classes)\n",
        "    cm.index.name = 'Actual'\n",
        "    cm.columns.name = 'Predicted'\n",
        "    \n",
        "    fig, ax = plt.subplots()\n",
        "    plt.title(title)\n",
        "    sns.heatmap(cm, cmap='viridis', annot=annot, fmt='', ax=ax)"
      ],
      "execution_count": 33,
      "outputs": []
    },
    {
      "cell_type": "code",
      "metadata": {
        "id": "PjvAxnCQSQwU"
      },
      "source": [
        "pred_valid = np.argmax(model.predict(valid_datagen), axis=1)\n",
        "pred_test = np.argmax(model.predict(test_datagen), axis=1)\n",
        "\n",
        "score_valid = f1_score(df_valid['label'], pred_valid, average='macro')\n",
        "score_test = f1_score(df_test['label'], pred_test, average='macro')"
      ],
      "execution_count": 36,
      "outputs": []
    },
    {
      "cell_type": "code",
      "metadata": {
        "colab": {
          "base_uri": "https://localhost:8080/",
          "height": 310
        },
        "id": "runjZh8ySSlj",
        "outputId": "64029dab-1d53-4503-a9b0-2afbbcf4f6b9"
      },
      "source": [
        "plot_cm(df_valid['label'], pred_valid, 'Validation\\nf1_score=' + str('%.3f' %score_valid), classes)"
      ],
      "execution_count": 41,
      "outputs": [
        {
          "output_type": "display_data",
          "data": {
            "image/png": "[encoded data removed]",
            "text/plain": [
              "<Figure size 432x288 with 2 Axes>"
            ]
          },
          "metadata": {
            "tags": [],
            "needs_background": "light"
          }
        }
      ]
    },
    {
      "cell_type": "code",
      "metadata": {
        "colab": {
          "base_uri": "https://localhost:8080/",
          "height": 310
        },
        "id": "_bAdwk-9SV6a",
        "outputId": "e9a41edc-2710-42cf-d46c-c614fb0715a5"
      },
      "source": [
        "plot_cm(df_test['label'], pred_test, 'Test\\nf1_score=' + str('%.3f' %score_test), classes)"
      ],
      "execution_count": 42,
      "outputs": [
        {
          "output_type": "display_data",
          "data": {
            "image/png": "[encoded data removed]",
            "text/plain": [
              "<Figure size 432x288 with 2 Axes>"
            ]
          },
          "metadata": {
            "tags": [],
            "needs_background": "light"
          }
        }
      ]
    }
  ]
}